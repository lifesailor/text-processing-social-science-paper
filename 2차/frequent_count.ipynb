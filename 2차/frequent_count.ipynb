{
 "cells": [
  {
   "cell_type": "code",
   "execution_count": 1,
   "metadata": {},
   "outputs": [],
   "source": [
    "import pandas as pd\n",
    "import numpy as np"
   ]
  },
  {
   "cell_type": "markdown",
   "metadata": {},
   "source": [
    "# 1. Keyword Processing"
   ]
  },
  {
   "cell_type": "code",
   "execution_count": 2,
   "metadata": {},
   "outputs": [],
   "source": [
    "keyword ={}"
   ]
  },
  {
   "cell_type": "code",
   "execution_count": 3,
   "metadata": {},
   "outputs": [],
   "source": [
    "keyword['경제'] = 'GDP, GNP, 경제, 경제동향, 경제위기, 경제전망, 경제정책, 경제팀, 경제협력, 공 공정책, 공익제보, 광고, 교부금, 교부세, 국민소득, 국채, 금융, 금융사기, 기금, 기본소득, 내부고발, 달러, 담보, 대출, 디플레, 물가, 복권, 부담금, 분식회계, 사 업평가, 성과관리, 세금, 세무, 예산, 외환, 은행, 인프레, 재정, 재정수지, 재정지 출, 정부예산, 정부조달, 조달, 조세, 조세회피, 주가조작, 주식, 채권, 통화, 투자, 화폐, 환율, 환전, 회계'\n",
    "keyword['교육'] = 'EBS, NCS, 고등, 고등학교, 교복, 교원, 교육 교육과정, 교육과정, 교육비, 교육평 가, 국가직무능력표준, 남고, 누리과정, 다문화학생, 대입, 대학, 대학특성화지원, 대학평가, 돌봄교실, 모의고사, 방과후, 사립고, 사립학교, 산학협력, 선생님, 수 능, 수업, 여고, 예술교육, 유치원, 자사고, 자유학기제, 장애학생, 장학금, 재외동 포교육, 전문대, 전문대학육성, 중등, 직업교육, 진로, 체육, 초등, 클럽 특목고, 특목고, 특수학교, 평생학습, 프로그램, 학교, 학교급식, 학교폭력, 학기, 학부모, 학생, 학술연구, 학자금, 학종'\n",
    "keyword['국토개발'] = 'GIS, SOC, 개발, 제한구역, 건설, 건설업, 건축, 공간, 구도심, 국토, 국토관리, 균 형, 낙후지역, 녹색건축, 도시, 도시경관, 도시디자인, 도시재생, 드림센터, 땅, 매 매, 물관리, 보금자리, 부동산, 분양, 사이언스파크, 산업단지, 새만금, 설계, 스마 트시티, 시공, 실거래, 실수요, 아파트, 연안, 오지개발, 월세, 인프라, 임대주택, 재건축, 전세, 전세금, 전세금보증, 주거, 주거급여, 주거환경, 주택가격, 주택개 발, 주택도시기금, 주택문제, 주택보급, 주택시장, 주택정책, 증축, 지리정보, 지 역발전, 지역산업진흥, 지역특성화, 지적, 지질정보, 집값, 청약, 층간소음, 캠퍼 스타운, 클러스터, 토지, 토지개발, 하천정비, 해외건설, 행복주택, 행정도시'\n",
    "keyword['노동'] = '52시간, 경단, 경력단절, 고용, 고용안정, 고용연장, 고용평등, 근로복지, 근로시 간, 근로조건, 급여, 노동법, 노동시장, 노동정책, 노동조합, 노사관계, 노조, 노 총, 단체교섭, 대체인력, 대학일자리센터, 병행제, 부당해고, 블라인드 산재, 새로 일하기센터, 성희롱, 시간선택제, 실업, 안심일터, 알바, 연봉, 월급, 인적자원개 발, 일가정양립, 일자리, 일학습, 임금, 장려금, 재취업, 정규직, 중소기업, 직무체 험, 직업교육, 직업능력개발, 직업윤리, 직업의식, 직장, 직장어린이집, 채용, 청 년내일, 청년수당, 청년취업, 최저임금, 취업성공패키지, 클린사업장, 파업, 평생 직업, 피크제, 해고, 해외취업지원, 휴가'\n",
    "keyword['보건복지'] ='가습기, 간호사, 감염, 건강검진, 건강기능식품, 건강보험, 계란, 고용보험, 공공 보건의료, 국민기초생활보장, 국민연금, 기초연금, 노숙인, 노인복지, 노인복지시 설, 노인수당, 노인여가활동, 먹거리, 메르스, 미세먼지, 병원, 보건, 보건소, 보육 교사, 보험, 복지시설, 부양의무제, 빈곤, 사회보험, 사회복지, 사회복지사, 살충 제 생리대, 소년소녀가장, 소아, 식품, 식품위생, 실업, 실업자, 심근경색, 심장 아동보호, 아동보호시설, 아동복지법, 아동수당, 암, 여성, 연금, 예방접종, 원격 의료, 위생, 육아휴직, 의료, 의료수가, 의사, 입양, 자살, 장애인, 전염병, 조류인 플루엔자, 조무사, 중증, 차상위, 청소년보호, 청소년복지, 최저생활보장, 축산, 출산 취약계층, 한의약, 항생제'"
   ]
  },
  {
   "cell_type": "code",
   "execution_count": 4,
   "metadata": {},
   "outputs": [],
   "source": [
    "for word in keyword.keys():\n",
    "    keyword[word] = keyword[word].replace(' ', '').split(',')"
   ]
  },
  {
   "cell_type": "code",
   "execution_count": 5,
   "metadata": {},
   "outputs": [
    {
     "name": "stdout",
     "output_type": "stream",
     "text": [
      "경제 ['GDP', 'GNP', '경제', '경제동향', '경제위기', '경제전망', '경제정책', '경제팀', '경제협력', '공공정책', '공익제보', '광고', '교부금', '교부세', '국민소득', '국채', '금융', '금융사기', '기금', '기본소득', '내부고발', '달러', '담보', '대출', '디플레', '물가', '복권', '부담금', '분식회계', '사업평가', '성과관리', '세금', '세무', '예산', '외환', '은행', '인프레', '재정', '재정수지', '재정지출', '정부예산', '정부조달', '조달', '조세', '조세회피', '주가조작', '주식', '채권', '통화', '투자', '화폐', '환율', '환전', '회계']\n",
      "교육 ['EBS', 'NCS', '고등', '고등학교', '교복', '교원', '교육교육과정', '교육과정', '교육비', '교육평가', '국가직무능력표준', '남고', '누리과정', '다문화학생', '대입', '대학', '대학특성화지원', '대학평가', '돌봄교실', '모의고사', '방과후', '사립고', '사립학교', '산학협력', '선생님', '수능', '수업', '여고', '예술교육', '유치원', '자사고', '자유학기제', '장애학생', '장학금', '재외동포교육', '전문대', '전문대학육성', '중등', '직업교육', '진로', '체육', '초등', '클럽특목고', '특목고', '특수학교', '평생학습', '프로그램', '학교', '학교급식', '학교폭력', '학기', '학부모', '학생', '학술연구', '학자금', '학종']\n",
      "국토개발 ['GIS', 'SOC', '개발', '제한구역', '건설', '건설업', '건축', '공간', '구도심', '국토', '국토관리', '균형', '낙후지역', '녹색건축', '도시', '도시경관', '도시디자인', '도시재생', '드림센터', '땅', '매매', '물관리', '보금자리', '부동산', '분양', '사이언스파크', '산업단지', '새만금', '설계', '스마트시티', '시공', '실거래', '실수요', '아파트', '연안', '오지개발', '월세', '인프라', '임대주택', '재건축', '전세', '전세금', '전세금보증', '주거', '주거급여', '주거환경', '주택가격', '주택개발', '주택도시기금', '주택문제', '주택보급', '주택시장', '주택정책', '증축', '지리정보', '지역발전', '지역산업진흥', '지역특성화', '지적', '지질정보', '집값', '청약', '층간소음', '캠퍼스타운', '클러스터', '토지', '토지개발', '하천정비', '해외건설', '행복주택', '행정도시']\n",
      "노동 ['52시간', '경단', '경력단절', '고용', '고용안정', '고용연장', '고용평등', '근로복지', '근로시간', '근로조건', '급여', '노동법', '노동시장', '노동정책', '노동조합', '노사관계', '노조', '노총', '단체교섭', '대체인력', '대학일자리센터', '병행제', '부당해고', '블라인드산재', '새로일하기센터', '성희롱', '시간선택제', '실업', '안심일터', '알바', '연봉', '월급', '인적자원개발', '일가정양립', '일자리', '일학습', '임금', '장려금', '재취업', '정규직', '중소기업', '직무체험', '직업교육', '직업능력개발', '직업윤리', '직업의식', '직장', '직장어린이집', '채용', '청년내일', '청년수당', '청년취업', '최저임금', '취업성공패키지', '클린사업장', '파업', '평생직업', '피크제', '해고', '해외취업지원', '휴가']\n",
      "보건복지 ['가습기', '간호사', '감염', '건강검진', '건강기능식품', '건강보험', '계란', '고용보험', '공공보건의료', '국민기초생활보장', '국민연금', '기초연금', '노숙인', '노인복지', '노인복지시설', '노인수당', '노인여가활동', '먹거리', '메르스', '미세먼지', '병원', '보건', '보건소', '보육교사', '보험', '복지시설', '부양의무제', '빈곤', '사회보험', '사회복지', '사회복지사', '살충제생리대', '소년소녀가장', '소아', '식품', '식품위생', '실업', '실업자', '심근경색', '심장아동보호', '아동보호시설', '아동복지법', '아동수당', '암', '여성', '연금', '예방접종', '원격의료', '위생', '육아휴직', '의료', '의료수가', '의사', '입양', '자살', '장애인', '전염병', '조류인플루엔자', '조무사', '중증', '차상위', '청소년보호', '청소년복지', '최저생활보장', '축산', '출산취약계층', '한의약', '항생제']\n"
     ]
    }
   ],
   "source": [
    "for word in keyword.keys():\n",
    "    print(word, keyword[word])"
   ]
  },
  {
   "cell_type": "markdown",
   "metadata": {},
   "source": [
    "# 2. Text Classification"
   ]
  },
  {
   "cell_type": "code",
   "execution_count": 6,
   "metadata": {},
   "outputs": [],
   "source": [
    "df = pd.read_excel('./president_1125.xlsx')"
   ]
  },
  {
   "cell_type": "code",
   "execution_count": 7,
   "metadata": {},
   "outputs": [],
   "source": [
    "del df['Unnamed: 4']"
   ]
  },
  {
   "cell_type": "code",
   "execution_count": 8,
   "metadata": {},
   "outputs": [
    {
     "data": {
      "text/html": [
       "<div>\n",
       "<style scoped>\n",
       "    .dataframe tbody tr th:only-of-type {\n",
       "        vertical-align: middle;\n",
       "    }\n",
       "\n",
       "    .dataframe tbody tr th {\n",
       "        vertical-align: top;\n",
       "    }\n",
       "\n",
       "    .dataframe thead th {\n",
       "        text-align: right;\n",
       "    }\n",
       "</style>\n",
       "<table border=\"1\" class=\"dataframe\">\n",
       "  <thead>\n",
       "    <tr style=\"text-align: right;\">\n",
       "      <th></th>\n",
       "      <th>title</th>\n",
       "      <th>date</th>\n",
       "      <th>text</th>\n",
       "      <th>최빈단어</th>\n",
       "      <th>기타</th>\n",
       "      <th>국토개발</th>\n",
       "      <th>교육</th>\n",
       "      <th>노동</th>\n",
       "      <th>보건복지</th>\n",
       "      <th>경제</th>\n",
       "      <th>url</th>\n",
       "    </tr>\n",
       "  </thead>\n",
       "  <tbody>\n",
       "    <tr>\n",
       "      <th>0</th>\n",
       "      <td>경제사회노동위원회 위촉장 수여 및 제1차 회의 결과 관련 문성현 경제사회노동위원회 ...</td>\n",
       "      <td>2018.11.22</td>\n",
       "      <td>오늘 경제사회노동위원회 위원들이 위촉장을 수여하고, 제1차 본회의를 했는데 관련된...</td>\n",
       "      <td>NaN</td>\n",
       "      <td>NaN</td>\n",
       "      <td>NaN</td>\n",
       "      <td>NaN</td>\n",
       "      <td>NaN</td>\n",
       "      <td>NaN</td>\n",
       "      <td>NaN</td>\n",
       "      <td>http://www.korea.kr/briefing/blueHouseView.do;...</td>\n",
       "    </tr>\n",
       "    <tr>\n",
       "      <th>1</th>\n",
       "      <td>문재인 대통령, 영세자영업자·중소상공인 지원을 위한 금융지원 확대 등 금융제도 개선...</td>\n",
       "      <td>2018.11.22</td>\n",
       "      <td>문재인 대통령은 오늘 오전 10시, 최종구 금융위원장으로부터 금융 현안을 보고 받...</td>\n",
       "      <td>NaN</td>\n",
       "      <td>NaN</td>\n",
       "      <td>NaN</td>\n",
       "      <td>NaN</td>\n",
       "      <td>NaN</td>\n",
       "      <td>NaN</td>\n",
       "      <td>NaN</td>\n",
       "      <td>http://www.korea.kr/briefing/blueHouseView.do;...</td>\n",
       "    </tr>\n",
       "    <tr>\n",
       "      <th>2</th>\n",
       "      <td>문 대통령, G20 정상회의 참석 및 제3차 반부패정책협의회 결과 관련 대변인 브리핑</td>\n",
       "      <td>2018.11.20</td>\n",
       "      <td>□ G20 정상회의 참석 관련\\n\\n\\n 문재인 대통령은 11월27일부터 12월4...</td>\n",
       "      <td>NaN</td>\n",
       "      <td>NaN</td>\n",
       "      <td>NaN</td>\n",
       "      <td>NaN</td>\n",
       "      <td>NaN</td>\n",
       "      <td>NaN</td>\n",
       "      <td>NaN</td>\n",
       "      <td>http://www.korea.kr/briefing/blueHouseView.do;...</td>\n",
       "    </tr>\n",
       "    <tr>\n",
       "      <th>3</th>\n",
       "      <td>한-중 정상회담 결과 관련 김의겸 대변인 브리핑</td>\n",
       "      <td>2018.11.17</td>\n",
       "      <td>문재인 대통령은 조금 전 오후 7시20분부터 8시까지 40분 동안 시진핑 중국 국...</td>\n",
       "      <td>NaN</td>\n",
       "      <td>NaN</td>\n",
       "      <td>NaN</td>\n",
       "      <td>NaN</td>\n",
       "      <td>NaN</td>\n",
       "      <td>NaN</td>\n",
       "      <td>NaN</td>\n",
       "      <td>http://www.korea.kr/briefing/blueHouseView.do;...</td>\n",
       "    </tr>\n",
       "    <tr>\n",
       "      <th>4</th>\n",
       "      <td>한-호주 정상회담 결과 관련 서면 브리핑</td>\n",
       "      <td>2018.11.17</td>\n",
       "      <td>문재인 대통령은 오늘 오전 11시15분부터  12시10분까지(현지시간) 스콧 모리...</td>\n",
       "      <td>NaN</td>\n",
       "      <td>NaN</td>\n",
       "      <td>NaN</td>\n",
       "      <td>NaN</td>\n",
       "      <td>NaN</td>\n",
       "      <td>NaN</td>\n",
       "      <td>NaN</td>\n",
       "      <td>http://www.korea.kr/briefing/blueHouseView.do;...</td>\n",
       "    </tr>\n",
       "  </tbody>\n",
       "</table>\n",
       "</div>"
      ],
      "text/plain": [
       "                                               title        date  \\\n",
       "0  경제사회노동위원회 위촉장 수여 및 제1차 회의 결과 관련 문성현 경제사회노동위원회 ...  2018.11.22   \n",
       "1  문재인 대통령, 영세자영업자·중소상공인 지원을 위한 금융지원 확대 등 금융제도 개선...  2018.11.22   \n",
       "2    문 대통령, G20 정상회의 참석 및 제3차 반부패정책협의회 결과 관련 대변인 브리핑  2018.11.20   \n",
       "3                         한-중 정상회담 결과 관련 김의겸 대변인 브리핑  2018.11.17   \n",
       "4                             한-호주 정상회담 결과 관련 서면 브리핑  2018.11.17   \n",
       "\n",
       "                                                text  최빈단어  기타  국토개발  교육  노동  \\\n",
       "0   오늘 경제사회노동위원회 위원들이 위촉장을 수여하고, 제1차 본회의를 했는데 관련된...   NaN NaN   NaN NaN NaN   \n",
       "1   문재인 대통령은 오늘 오전 10시, 최종구 금융위원장으로부터 금융 현안을 보고 받...   NaN NaN   NaN NaN NaN   \n",
       "2   □ G20 정상회의 참석 관련\\n\\n\\n 문재인 대통령은 11월27일부터 12월4...   NaN NaN   NaN NaN NaN   \n",
       "3   문재인 대통령은 조금 전 오후 7시20분부터 8시까지 40분 동안 시진핑 중국 국...   NaN NaN   NaN NaN NaN   \n",
       "4   문재인 대통령은 오늘 오전 11시15분부터  12시10분까지(현지시간) 스콧 모리...   NaN NaN   NaN NaN NaN   \n",
       "\n",
       "   보건복지  경제                                                url  \n",
       "0   NaN NaN  http://www.korea.kr/briefing/blueHouseView.do;...  \n",
       "1   NaN NaN  http://www.korea.kr/briefing/blueHouseView.do;...  \n",
       "2   NaN NaN  http://www.korea.kr/briefing/blueHouseView.do;...  \n",
       "3   NaN NaN  http://www.korea.kr/briefing/blueHouseView.do;...  \n",
       "4   NaN NaN  http://www.korea.kr/briefing/blueHouseView.do;...  "
      ]
     },
     "execution_count": 8,
     "metadata": {},
     "output_type": "execute_result"
    }
   ],
   "source": [
    "df.head()"
   ]
  },
  {
   "cell_type": "code",
   "execution_count": 9,
   "metadata": {},
   "outputs": [],
   "source": [
    "df.reset_index(inplace=True, drop=True)"
   ]
  },
  {
   "cell_type": "code",
   "execution_count": 10,
   "metadata": {},
   "outputs": [],
   "source": [
    "df['최빈단어'] = df['최빈단어'].apply(lambda x: ' ')"
   ]
  },
  {
   "cell_type": "code",
   "execution_count": 11,
   "metadata": {},
   "outputs": [
    {
     "data": {
      "text/html": [
       "<div>\n",
       "<style scoped>\n",
       "    .dataframe tbody tr th:only-of-type {\n",
       "        vertical-align: middle;\n",
       "    }\n",
       "\n",
       "    .dataframe tbody tr th {\n",
       "        vertical-align: top;\n",
       "    }\n",
       "\n",
       "    .dataframe thead th {\n",
       "        text-align: right;\n",
       "    }\n",
       "</style>\n",
       "<table border=\"1\" class=\"dataframe\">\n",
       "  <thead>\n",
       "    <tr style=\"text-align: right;\">\n",
       "      <th></th>\n",
       "      <th>title</th>\n",
       "      <th>date</th>\n",
       "      <th>text</th>\n",
       "      <th>최빈단어</th>\n",
       "      <th>기타</th>\n",
       "      <th>국토개발</th>\n",
       "      <th>교육</th>\n",
       "      <th>노동</th>\n",
       "      <th>보건복지</th>\n",
       "      <th>경제</th>\n",
       "      <th>url</th>\n",
       "    </tr>\n",
       "  </thead>\n",
       "  <tbody>\n",
       "    <tr>\n",
       "      <th>0</th>\n",
       "      <td>경제사회노동위원회 위촉장 수여 및 제1차 회의 결과 관련 문성현 경제사회노동위원회 ...</td>\n",
       "      <td>2018.11.22</td>\n",
       "      <td>오늘 경제사회노동위원회 위원들이 위촉장을 수여하고, 제1차 본회의를 했는데 관련된...</td>\n",
       "      <td></td>\n",
       "      <td>NaN</td>\n",
       "      <td>NaN</td>\n",
       "      <td>NaN</td>\n",
       "      <td>NaN</td>\n",
       "      <td>NaN</td>\n",
       "      <td>NaN</td>\n",
       "      <td>http://www.korea.kr/briefing/blueHouseView.do;...</td>\n",
       "    </tr>\n",
       "    <tr>\n",
       "      <th>1</th>\n",
       "      <td>문재인 대통령, 영세자영업자·중소상공인 지원을 위한 금융지원 확대 등 금융제도 개선...</td>\n",
       "      <td>2018.11.22</td>\n",
       "      <td>문재인 대통령은 오늘 오전 10시, 최종구 금융위원장으로부터 금융 현안을 보고 받...</td>\n",
       "      <td></td>\n",
       "      <td>NaN</td>\n",
       "      <td>NaN</td>\n",
       "      <td>NaN</td>\n",
       "      <td>NaN</td>\n",
       "      <td>NaN</td>\n",
       "      <td>NaN</td>\n",
       "      <td>http://www.korea.kr/briefing/blueHouseView.do;...</td>\n",
       "    </tr>\n",
       "    <tr>\n",
       "      <th>2</th>\n",
       "      <td>문 대통령, G20 정상회의 참석 및 제3차 반부패정책협의회 결과 관련 대변인 브리핑</td>\n",
       "      <td>2018.11.20</td>\n",
       "      <td>□ G20 정상회의 참석 관련\\n\\n\\n 문재인 대통령은 11월27일부터 12월4...</td>\n",
       "      <td></td>\n",
       "      <td>NaN</td>\n",
       "      <td>NaN</td>\n",
       "      <td>NaN</td>\n",
       "      <td>NaN</td>\n",
       "      <td>NaN</td>\n",
       "      <td>NaN</td>\n",
       "      <td>http://www.korea.kr/briefing/blueHouseView.do;...</td>\n",
       "    </tr>\n",
       "    <tr>\n",
       "      <th>3</th>\n",
       "      <td>한-중 정상회담 결과 관련 김의겸 대변인 브리핑</td>\n",
       "      <td>2018.11.17</td>\n",
       "      <td>문재인 대통령은 조금 전 오후 7시20분부터 8시까지 40분 동안 시진핑 중국 국...</td>\n",
       "      <td></td>\n",
       "      <td>NaN</td>\n",
       "      <td>NaN</td>\n",
       "      <td>NaN</td>\n",
       "      <td>NaN</td>\n",
       "      <td>NaN</td>\n",
       "      <td>NaN</td>\n",
       "      <td>http://www.korea.kr/briefing/blueHouseView.do;...</td>\n",
       "    </tr>\n",
       "    <tr>\n",
       "      <th>4</th>\n",
       "      <td>한-호주 정상회담 결과 관련 서면 브리핑</td>\n",
       "      <td>2018.11.17</td>\n",
       "      <td>문재인 대통령은 오늘 오전 11시15분부터  12시10분까지(현지시간) 스콧 모리...</td>\n",
       "      <td></td>\n",
       "      <td>NaN</td>\n",
       "      <td>NaN</td>\n",
       "      <td>NaN</td>\n",
       "      <td>NaN</td>\n",
       "      <td>NaN</td>\n",
       "      <td>NaN</td>\n",
       "      <td>http://www.korea.kr/briefing/blueHouseView.do;...</td>\n",
       "    </tr>\n",
       "  </tbody>\n",
       "</table>\n",
       "</div>"
      ],
      "text/plain": [
       "                                               title        date  \\\n",
       "0  경제사회노동위원회 위촉장 수여 및 제1차 회의 결과 관련 문성현 경제사회노동위원회 ...  2018.11.22   \n",
       "1  문재인 대통령, 영세자영업자·중소상공인 지원을 위한 금융지원 확대 등 금융제도 개선...  2018.11.22   \n",
       "2    문 대통령, G20 정상회의 참석 및 제3차 반부패정책협의회 결과 관련 대변인 브리핑  2018.11.20   \n",
       "3                         한-중 정상회담 결과 관련 김의겸 대변인 브리핑  2018.11.17   \n",
       "4                             한-호주 정상회담 결과 관련 서면 브리핑  2018.11.17   \n",
       "\n",
       "                                                text 최빈단어  기타  국토개발  교육  노동  \\\n",
       "0   오늘 경제사회노동위원회 위원들이 위촉장을 수여하고, 제1차 본회의를 했는데 관련된...      NaN   NaN NaN NaN   \n",
       "1   문재인 대통령은 오늘 오전 10시, 최종구 금융위원장으로부터 금융 현안을 보고 받...      NaN   NaN NaN NaN   \n",
       "2   □ G20 정상회의 참석 관련\\n\\n\\n 문재인 대통령은 11월27일부터 12월4...      NaN   NaN NaN NaN   \n",
       "3   문재인 대통령은 조금 전 오후 7시20분부터 8시까지 40분 동안 시진핑 중국 국...      NaN   NaN NaN NaN   \n",
       "4   문재인 대통령은 오늘 오전 11시15분부터  12시10분까지(현지시간) 스콧 모리...      NaN   NaN NaN NaN   \n",
       "\n",
       "   보건복지  경제                                                url  \n",
       "0   NaN NaN  http://www.korea.kr/briefing/blueHouseView.do;...  \n",
       "1   NaN NaN  http://www.korea.kr/briefing/blueHouseView.do;...  \n",
       "2   NaN NaN  http://www.korea.kr/briefing/blueHouseView.do;...  \n",
       "3   NaN NaN  http://www.korea.kr/briefing/blueHouseView.do;...  \n",
       "4   NaN NaN  http://www.korea.kr/briefing/blueHouseView.do;...  "
      ]
     },
     "execution_count": 11,
     "metadata": {},
     "output_type": "execute_result"
    }
   ],
   "source": [
    "df.head()"
   ]
  },
  {
   "cell_type": "code",
   "execution_count": 18,
   "metadata": {},
   "outputs": [],
   "source": [
    "stopwords = '아\t휴\t아이구\t아이쿠\t아이고\t어\t나\t우리\t저희\t따라\t의해\t을\t를\t에\t의\t가\t으로\t로\t에게\t뿐이다\t의거하여\t근거하여\t입각하여\t기준으로\t예하면\t예를 들면\t예를 들자면\t저\t소인\t소생\t저희\t지말고\t하지마\t하지마라\t다른\t물론\t또한\t그리고\t비길수 없다\t해서는 안된다\t뿐만 아니라\t만이 아니다\t만은 아니다\t막론하고\t관계없이\t그치지 않다\t그러나\t그런데\t하지만\t든간에\t논하지 않다\t따지지 않다\t설사\t비록\t더라도\t아니면\t만 못하다\t하는 편이 낫다\t불문하고\t향하여\t향해서\t향하다\t쪽으로\t틈타\t이용하여\t타다\t오르다\t제외하고\t이 외에\t이 밖에\t하여야\t비로소\t한다면 몰라도\t외에도\t이곳\t여기\t부터\t기점으로\t따라서\t할 생각이다\t하려고하다\t이리하여\t그리하여\t그렇게 함으로써\t하지만\t일때\t할때\t앞에서\t중에서\t보는데서\t으로써\t로써\t까지\t해야한다\t일것이다\t반드시\t할줄알다\t할수있다\t할수있어\t임에 틀림없다\t한다면\t등\t등등\t제\t겨우\t단지\t다만\t할뿐\t딩동\t댕그\t대해서\t대하여\t대하면\t훨씬\t얼마나\t얼마만큼\t얼마큼\t남짓\t여\t얼마간\t약간\t다소\t좀\t조금\t다수\t몇\t얼마\t지만\t하물며\t또한\t그러나\t그렇지만\t하지만\t이외에도\t대해 말하자면\t뿐이다\t다음에\t반대로\t반대로 말하자면\t이와 반대로\t바꾸어서 말하면\t바꾸어서 한다면\t만약\t그렇지않으면\t까악\t툭\t딱\t삐걱거리다\t보드득\t비걱거리다\t꽈당\t응당\t해야한다\t에 가서\t각\t각각\t여러분\t각종\t각자\t제각기\t하도록하다\t와\t과\t그러므로\t그래서\t고로\t한 까닭에\t하기 때문에\t거니와\t이지만\t대하여\t관하여\t관한\t과연\t실로\t아니나다를가\t생각한대로\t진짜로\t한적이있다\t하곤하였다\t하\t하하\t허허\t아하\t거바\t와\t오\t왜\t어째서\t무엇때문에\t어찌\t하겠는가\t무슨\t어디\t어느곳\t더군다나\t하물며\t더욱이는\t어느때\t언제\t야\t이봐\t어이\t여보시오\t흐흐\t흥\t휴\t헉헉\t헐떡헐떡\t영차\t여차\t어기여차\t끙끙\t아야\t앗\t아야\t콸콸\t졸졸\t좍좍\t뚝뚝\t주룩주룩\t솨\t우르르\t그래도\t또\t그리고\t바꾸어말하면\t바꾸어말하자면\t혹은\t혹시\t답다\t및\t그에 따르는\t때가 되어\t즉\t지든지\t설령\t가령\t하더라도\t할지라도\t일지라도\t지든지\t몇\t거의\t하마터면\t인젠\t이젠\t된바에야\t된이상\t만큼어찌됏든\t그위에\t게다가\t점에서 보아\t비추어 보아\t고려하면\t하게될것이다\t일것이다\t비교적\t좀\t보다더\t비하면\t시키다\t하게하다\t할만하다\t의해서\t연이서\t이어서\t잇따라\t뒤따라\t뒤이어\t결국\t의지하여\t기대여\t통하여\t자마자\t더욱더\t불구하고\t얼마든지\t마음대로\t주저하지 않고\t곧\t즉시\t바로\t당장\t하자마자\t밖에 안된다\t하면된다\t그래\t그렇지\t요컨대\t다시 말하자면\t바꿔 말하면\t즉\t구체적으로\t말하자면\t시작하여\t시초에\t이상\t허\t헉\t허걱\t바와같이\t해도좋다\t해도된다\t게다가\t더구나\t하물며\t와르르\t팍\t퍽\t펄렁\t동안\t이래\t하고있었다\t이었다\t에서\t로부터\t까지\t예하면\t했어요\t해요\t함께\t같이\t더불어\t마저\t마저도\t양자\t모두\t습니다\t가까스로\t하려고하다\t즈음하여\t다른\t다른 방면으로\t해봐요\t습니까\t했어요\t말할것도 없고\t무릎쓰고\t개의치않고\t하는것만 못하다\t하는것이 낫다\t매\t매번\t들\t모\t어느것\t어느\t로써\t갖고말하자면\t어디\t어느쪽\t어느것\t어느해\t어느 년도\t라 해도\t언젠가\t어떤것\t어느것\t저기\t저쪽\t저것\t그때\t그럼\t그러면\t요만한걸\t그래\t그때\t저것만큼\t그저\t이르기까지\t할 줄 안다\t할 힘이 있다\t너\t너희\t당신\t어찌\t설마\t차라리\t할지언정\t할지라도\t할망정\t할지언정\t구토하다\t게우다\t토하다\t메쓰겁다\t옆사람\t퉤\t쳇\t의거하여\t근거하여\t의해\t따라\t힘입어\t그\t다음\t버금\t두번째로\t기타\t첫번째로\t나머지는\t그중에서\t견지에서\t형식으로 쓰여\t입장에서\t위해서\t단지\t의해되다\t하도록시키다\t뿐만아니라\t반대로\t전후\t전자\t앞의것\t잠시\t잠깐\t하면서\t그렇지만\t다음에\t그러한즉\t그런즉\t남들\t아무거나\t어찌하든지\t같다\t비슷하다\t예컨대\t이럴정도로\t어떻게\t만약\t만일\t위에서 서술한바와같이\t인 듯하다\t하지 않는다면\t만약에\t무엇\t무슨\t어느\t어떤\t아래윗\t조차\t한데\t그럼에도 불구하고\t여전히\t심지어\t까지도\t조차도\t하지 않도록\t않기 위하여\t때\t시각\t무렵\t시간\t동안\t어때\t어떠한\t하여금\t네\t예\t우선\t누구\t누가 알겠는가\t아무도\t줄은모른다\t줄은 몰랏다\t하는 김에\t겸사겸사\t하는바\t그런 까닭에\t한 이유는\t그러니\t그러니까\t때문에\t그\t너희\t그들\t너희들\t타인\t것\t것들\t너\t위하여\t공동으로\t동시에\t하기 위하여\t어찌하여\t무엇때문에\t붕붕\t윙윙\t나\t우리\t엉엉\t휘익\t윙윙\t오호\t아하\t어쨋든\t만 못하다하기보다는\t차라리\t하는 편이 낫다\t흐흐\t놀라다\t상대적으로 말하자면\t마치\t아니라면\t쉿\t그렇지 않으면\t그렇지 않다면\t안 그러면\t아니었다면\t하든지\t아니면\t이라면\t좋아\t알았어\t하는것도\t그만이다\t어쩔수 없다\t하나\t일\t일반적으로\t일단\t한켠으로는\t오자마자\t이렇게되면\t이와같다면\t전부\t한마디\t한항목\t근거로\t하기에\t아울러\t하지 않도록\t않기 위해서\t이르기까지\t이 되다\t로 인하여\t까닭으로\t이유만으로\t이로 인하여\t그래서\t이 때문에\t그러므로\t그런 까닭에\t알 수 있다\t결론을 낼 수 있다\t으로 인하여\t있다\t어떤것\t관계가 있다\t관련이 있다\t연관되다\t어떤것들\t에 대해\t이리하여\t그리하여\t여부\t하기보다는\t하느니\t하면 할수록\t운운\t이러이러하다\t하구나\t하도다\t다시말하면\t다음으로\t에 있다\t에 달려 있다\t우리\t우리들\t오히려\t하기는한데\t어떻게\t어떻해\t어찌됏어\t어때\t어째서\t본대로\t자\t이\t이쪽\t여기\t이것\t이번\t이렇게말하자면\t이런\t이러한\t이와 같은\t요만큼\t요만한 것\t얼마 안 되는 것\t이만큼\t이 정도의\t이렇게 많은 것\t이와 같다\t이때\t이렇구나\t것과 같이\t끼익\t삐걱\t따위\t와 같은 사람들\t부류의 사람들\t왜냐하면\t중의하나\t오직\t오로지\t에 한하다\t하기만 하면\t도착하다\t까지 미치다\t도달하다\t정도에 이르다\t할 지경이다\t결과에 이르다\t관해서는\t여러분\t하고 있다\t한 후\t혼자\t자기\t자기집\t자신\t우에 종합한것과같이\t총적으로 보면\t총적으로 말하면\t총적으로\t대로 하다\t으로서\t참\t그만이다\t할 따름이다\t쿵\t탕탕\t쾅쾅\t둥둥\t봐\t봐라\t아이야\t아니\t와아\t응\t아이\t참나\t년\t월\t일\t령\t영\t일\t이\t삼\t사\t오\t육\t륙\t칠\t팔\t구\t이천육\t이천칠\t이천팔\t이천구\t하나\t둘\t셋\t넷\t다섯\t여섯\t일곱\t여덟\t아홉\t령\t영'"
   ]
  },
  {
   "cell_type": "code",
   "execution_count": 19,
   "metadata": {},
   "outputs": [],
   "source": [
    "stopwords = stopwords.split('\\t')"
   ]
  },
  {
   "cell_type": "code",
   "execution_count": 20,
   "metadata": {},
   "outputs": [],
   "source": [
    "stopwords.append('수')"
   ]
  },
  {
   "cell_type": "markdown",
   "metadata": {},
   "source": [
    "## 1. Select Frequent Words"
   ]
  },
  {
   "cell_type": "code",
   "execution_count": 21,
   "metadata": {},
   "outputs": [],
   "source": [
    "def get_frequent_word(x):    \n",
    "    \n",
    "    # tokenize\n",
    "    words = str(x).replace('\\n', '').replace('.', '').replace('“', '').split(' ')\n",
    "    words = [word for word in words if word != '']\n",
    "    uniques = []\n",
    "    \n",
    "    for word in words:\n",
    "        if word not in uniques:\n",
    "            # stopword remove\n",
    "            if word in stopwords:\n",
    "                continue\n",
    "            uniques.append(word)\n",
    "\n",
    "    counts = []\n",
    "    for unique in uniques:\n",
    "        count = 0              # Initialize the count to zero.\n",
    "        for word in words:     # Iterate over the words.\n",
    "            if word == unique:   # Is this word equal to the current unique?\n",
    "                count += 1         # If so, increment the count\n",
    "        counts.append((count, unique))\n",
    "\n",
    "    counts.sort()            # Sorting the list puts the lowest counts first.\n",
    "    counts.reverse()         # Reverse it, putting the highest counts first.\n",
    "\n",
    "    y = ''\n",
    "    for i in range(min(5, len(counts))):\n",
    "        y += str(counts[i][1])\n",
    "        y += ' '\n",
    "    return y"
   ]
  },
  {
   "cell_type": "code",
   "execution_count": 22,
   "metadata": {
    "scrolled": true
   },
   "outputs": [],
   "source": [
    "df['최빈단어'] = df.apply(lambda row: get_frequent_word(row['text']), axis=1)"
   ]
  },
  {
   "cell_type": "code",
   "execution_count": 23,
   "metadata": {},
   "outputs": [
    {
     "data": {
      "text/html": [
       "<div>\n",
       "<style scoped>\n",
       "    .dataframe tbody tr th:only-of-type {\n",
       "        vertical-align: middle;\n",
       "    }\n",
       "\n",
       "    .dataframe tbody tr th {\n",
       "        vertical-align: top;\n",
       "    }\n",
       "\n",
       "    .dataframe thead th {\n",
       "        text-align: right;\n",
       "    }\n",
       "</style>\n",
       "<table border=\"1\" class=\"dataframe\">\n",
       "  <thead>\n",
       "    <tr style=\"text-align: right;\">\n",
       "      <th></th>\n",
       "      <th>title</th>\n",
       "      <th>date</th>\n",
       "      <th>text</th>\n",
       "      <th>최빈단어</th>\n",
       "      <th>기타</th>\n",
       "      <th>국토개발</th>\n",
       "      <th>교육</th>\n",
       "      <th>노동</th>\n",
       "      <th>보건복지</th>\n",
       "      <th>경제</th>\n",
       "      <th>url</th>\n",
       "    </tr>\n",
       "  </thead>\n",
       "  <tbody>\n",
       "    <tr>\n",
       "      <th>0</th>\n",
       "      <td>경제사회노동위원회 위촉장 수여 및 제1차 회의 결과 관련 문성현 경제사회노동위원회 ...</td>\n",
       "      <td>2018.11.22</td>\n",
       "      <td>오늘 경제사회노동위원회 위원들이 위촉장을 수여하고, 제1차 본회의를 했는데 관련된...</td>\n",
       "      <td>사회적 앞으로 대화가 오늘 역할을</td>\n",
       "      <td>NaN</td>\n",
       "      <td>NaN</td>\n",
       "      <td>NaN</td>\n",
       "      <td>NaN</td>\n",
       "      <td>NaN</td>\n",
       "      <td>NaN</td>\n",
       "      <td>http://www.korea.kr/briefing/blueHouseView.do;...</td>\n",
       "    </tr>\n",
       "    <tr>\n",
       "      <th>1</th>\n",
       "      <td>문재인 대통령, 영세자영업자·중소상공인 지원을 위한 금융지원 확대 등 금융제도 개선...</td>\n",
       "      <td>2018.11.22</td>\n",
       "      <td>문재인 대통령은 오늘 오전 10시, 최종구 금융위원장으로부터 금융 현안을 보고 받...</td>\n",
       "      <td>ｏ 추진할 있도록 대한 적극</td>\n",
       "      <td>NaN</td>\n",
       "      <td>NaN</td>\n",
       "      <td>NaN</td>\n",
       "      <td>NaN</td>\n",
       "      <td>NaN</td>\n",
       "      <td>NaN</td>\n",
       "      <td>http://www.korea.kr/briefing/blueHouseView.do;...</td>\n",
       "    </tr>\n",
       "    <tr>\n",
       "      <th>2</th>\n",
       "      <td>문 대통령, G20 정상회의 참석 및 제3차 반부패정책협의회 결과 관련 대변인 브리핑</td>\n",
       "      <td>2018.11.20</td>\n",
       "      <td>□ G20 정상회의 참석 관련\\n\\n\\n 문재인 대통령은 11월27일부터 12월4...</td>\n",
       "      <td>대통령은 G20 문재인 정상회의에 정상회의</td>\n",
       "      <td>NaN</td>\n",
       "      <td>NaN</td>\n",
       "      <td>NaN</td>\n",
       "      <td>NaN</td>\n",
       "      <td>NaN</td>\n",
       "      <td>NaN</td>\n",
       "      <td>http://www.korea.kr/briefing/blueHouseView.do;...</td>\n",
       "    </tr>\n",
       "    <tr>\n",
       "      <th>3</th>\n",
       "      <td>한-중 정상회담 결과 관련 김의겸 대변인 브리핑</td>\n",
       "      <td>2018.11.17</td>\n",
       "      <td>문재인 대통령은 조금 전 오후 7시20분부터 8시까지 40분 동안 시진핑 중국 국...</td>\n",
       "      <td>문재인 한반도 시진핑 주석은 두</td>\n",
       "      <td>NaN</td>\n",
       "      <td>NaN</td>\n",
       "      <td>NaN</td>\n",
       "      <td>NaN</td>\n",
       "      <td>NaN</td>\n",
       "      <td>NaN</td>\n",
       "      <td>http://www.korea.kr/briefing/blueHouseView.do;...</td>\n",
       "    </tr>\n",
       "    <tr>\n",
       "      <th>4</th>\n",
       "      <td>한-호주 정상회담 결과 관련 서면 브리핑</td>\n",
       "      <td>2018.11.17</td>\n",
       "      <td>문재인 대통령은 오늘 오전 11시15분부터  12시10분까지(현지시간) 스콧 모리...</td>\n",
       "      <td>스콧 대통령은 문 모리슨 총리는</td>\n",
       "      <td>NaN</td>\n",
       "      <td>NaN</td>\n",
       "      <td>NaN</td>\n",
       "      <td>NaN</td>\n",
       "      <td>NaN</td>\n",
       "      <td>NaN</td>\n",
       "      <td>http://www.korea.kr/briefing/blueHouseView.do;...</td>\n",
       "    </tr>\n",
       "  </tbody>\n",
       "</table>\n",
       "</div>"
      ],
      "text/plain": [
       "                                               title        date  \\\n",
       "0  경제사회노동위원회 위촉장 수여 및 제1차 회의 결과 관련 문성현 경제사회노동위원회 ...  2018.11.22   \n",
       "1  문재인 대통령, 영세자영업자·중소상공인 지원을 위한 금융지원 확대 등 금융제도 개선...  2018.11.22   \n",
       "2    문 대통령, G20 정상회의 참석 및 제3차 반부패정책협의회 결과 관련 대변인 브리핑  2018.11.20   \n",
       "3                         한-중 정상회담 결과 관련 김의겸 대변인 브리핑  2018.11.17   \n",
       "4                             한-호주 정상회담 결과 관련 서면 브리핑  2018.11.17   \n",
       "\n",
       "                                                text  \\\n",
       "0   오늘 경제사회노동위원회 위원들이 위촉장을 수여하고, 제1차 본회의를 했는데 관련된...   \n",
       "1   문재인 대통령은 오늘 오전 10시, 최종구 금융위원장으로부터 금융 현안을 보고 받...   \n",
       "2   □ G20 정상회의 참석 관련\\n\\n\\n 문재인 대통령은 11월27일부터 12월4...   \n",
       "3   문재인 대통령은 조금 전 오후 7시20분부터 8시까지 40분 동안 시진핑 중국 국...   \n",
       "4   문재인 대통령은 오늘 오전 11시15분부터  12시10분까지(현지시간) 스콧 모리...   \n",
       "\n",
       "                       최빈단어  기타  국토개발  교육  노동  보건복지  경제  \\\n",
       "0       사회적 앞으로 대화가 오늘 역할을  NaN   NaN NaN NaN   NaN NaN   \n",
       "1          ｏ 추진할 있도록 대한 적극  NaN   NaN NaN NaN   NaN NaN   \n",
       "2  대통령은 G20 문재인 정상회의에 정상회의  NaN   NaN NaN NaN   NaN NaN   \n",
       "3        문재인 한반도 시진핑 주석은 두  NaN   NaN NaN NaN   NaN NaN   \n",
       "4        스콧 대통령은 문 모리슨 총리는  NaN   NaN NaN NaN   NaN NaN   \n",
       "\n",
       "                                                 url  \n",
       "0  http://www.korea.kr/briefing/blueHouseView.do;...  \n",
       "1  http://www.korea.kr/briefing/blueHouseView.do;...  \n",
       "2  http://www.korea.kr/briefing/blueHouseView.do;...  \n",
       "3  http://www.korea.kr/briefing/blueHouseView.do;...  \n",
       "4  http://www.korea.kr/briefing/blueHouseView.do;...  "
      ]
     },
     "execution_count": 23,
     "metadata": {},
     "output_type": "execute_result"
    }
   ],
   "source": [
    "df.head()"
   ]
  },
  {
   "cell_type": "markdown",
   "metadata": {},
   "source": [
    "# 2. Classifier"
   ]
  },
  {
   "cell_type": "code",
   "execution_count": 33,
   "metadata": {},
   "outputs": [],
   "source": [
    "df['분류'] = ''"
   ]
  },
  {
   "cell_type": "code",
   "execution_count": 45,
   "metadata": {},
   "outputs": [],
   "source": [
    "def text_classifier(row):\n",
    "    y = ''\n",
    "    # keyword_dictionary\n",
    "    for category, words in keyword.items():\n",
    "        for word in words: \n",
    "            if word in row['최빈단어']:\n",
    "                y += category\n",
    "                y += ' '\n",
    "                continue\n",
    "                \n",
    "    if len(y) == 0:\n",
    "        y = '기타'\n",
    "    return y"
   ]
  },
  {
   "cell_type": "code",
   "execution_count": 46,
   "metadata": {},
   "outputs": [],
   "source": [
    "df['분류'] = df.apply(lambda row: text_classifier(row), axis=1)"
   ]
  },
  {
   "cell_type": "code",
   "execution_count": 50,
   "metadata": {},
   "outputs": [
    {
     "data": {
      "text/plain": [
       "기타                 3102\n",
       "경제                  101\n",
       "노동                   68\n",
       "보건복지                 48\n",
       "교육                   42\n",
       "국토개발                 20\n",
       "경제 경제                 7\n",
       "노동 노동                 7\n",
       "교육 교육                 5\n",
       "경제 노동                 5\n",
       "노동 노동 노동              4\n",
       "보건복지 보건복지             4\n",
       "국토개발 국토개발             3\n",
       "보건복지 보건복지 보건복지        2\n",
       "교육 보건복지               1\n",
       "노동 보건복지 보건복지          1\n",
       "경제 국토개발               1\n",
       "국토개발 보건복지             1\n",
       "국토개발 국토개발 국토개발        1\n",
       "국토개발 노동               1\n",
       "Name: 분류, dtype: int64"
      ]
     },
     "execution_count": 50,
     "metadata": {},
     "output_type": "execute_result"
    }
   ],
   "source": [
    "df['분류'].value_counts()"
   ]
  },
  {
   "cell_type": "code",
   "execution_count": 53,
   "metadata": {},
   "outputs": [],
   "source": [
    "del df['기타']\n",
    "del df['국토개발']\n",
    "del df['교육']\n",
    "del df['노동']\n",
    "del df['보건복지']\n",
    "del df['경제']"
   ]
  },
  {
   "cell_type": "code",
   "execution_count": 54,
   "metadata": {},
   "outputs": [
    {
     "data": {
      "text/html": [
       "<div>\n",
       "<style scoped>\n",
       "    .dataframe tbody tr th:only-of-type {\n",
       "        vertical-align: middle;\n",
       "    }\n",
       "\n",
       "    .dataframe tbody tr th {\n",
       "        vertical-align: top;\n",
       "    }\n",
       "\n",
       "    .dataframe thead th {\n",
       "        text-align: right;\n",
       "    }\n",
       "</style>\n",
       "<table border=\"1\" class=\"dataframe\">\n",
       "  <thead>\n",
       "    <tr style=\"text-align: right;\">\n",
       "      <th></th>\n",
       "      <th>title</th>\n",
       "      <th>date</th>\n",
       "      <th>text</th>\n",
       "      <th>최빈단어</th>\n",
       "      <th>url</th>\n",
       "      <th>분류</th>\n",
       "    </tr>\n",
       "  </thead>\n",
       "  <tbody>\n",
       "    <tr>\n",
       "      <th>0</th>\n",
       "      <td>경제사회노동위원회 위촉장 수여 및 제1차 회의 결과 관련 문성현 경제사회노동위원회 ...</td>\n",
       "      <td>2018.11.22</td>\n",
       "      <td>오늘 경제사회노동위원회 위원들이 위촉장을 수여하고, 제1차 본회의를 했는데 관련된...</td>\n",
       "      <td>사회적 앞으로 대화가 오늘 역할을</td>\n",
       "      <td>http://www.korea.kr/briefing/blueHouseView.do;...</td>\n",
       "      <td>기타</td>\n",
       "    </tr>\n",
       "    <tr>\n",
       "      <th>1</th>\n",
       "      <td>문재인 대통령, 영세자영업자·중소상공인 지원을 위한 금융지원 확대 등 금융제도 개선...</td>\n",
       "      <td>2018.11.22</td>\n",
       "      <td>문재인 대통령은 오늘 오전 10시, 최종구 금융위원장으로부터 금융 현안을 보고 받...</td>\n",
       "      <td>ｏ 추진할 있도록 대한 적극</td>\n",
       "      <td>http://www.korea.kr/briefing/blueHouseView.do;...</td>\n",
       "      <td>기타</td>\n",
       "    </tr>\n",
       "    <tr>\n",
       "      <th>2</th>\n",
       "      <td>문 대통령, G20 정상회의 참석 및 제3차 반부패정책협의회 결과 관련 대변인 브리핑</td>\n",
       "      <td>2018.11.20</td>\n",
       "      <td>□ G20 정상회의 참석 관련\\n\\n\\n 문재인 대통령은 11월27일부터 12월4...</td>\n",
       "      <td>대통령은 G20 문재인 정상회의에 정상회의</td>\n",
       "      <td>http://www.korea.kr/briefing/blueHouseView.do;...</td>\n",
       "      <td>기타</td>\n",
       "    </tr>\n",
       "    <tr>\n",
       "      <th>3</th>\n",
       "      <td>한-중 정상회담 결과 관련 김의겸 대변인 브리핑</td>\n",
       "      <td>2018.11.17</td>\n",
       "      <td>문재인 대통령은 조금 전 오후 7시20분부터 8시까지 40분 동안 시진핑 중국 국...</td>\n",
       "      <td>문재인 한반도 시진핑 주석은 두</td>\n",
       "      <td>http://www.korea.kr/briefing/blueHouseView.do;...</td>\n",
       "      <td>기타</td>\n",
       "    </tr>\n",
       "    <tr>\n",
       "      <th>4</th>\n",
       "      <td>한-호주 정상회담 결과 관련 서면 브리핑</td>\n",
       "      <td>2018.11.17</td>\n",
       "      <td>문재인 대통령은 오늘 오전 11시15분부터  12시10분까지(현지시간) 스콧 모리...</td>\n",
       "      <td>스콧 대통령은 문 모리슨 총리는</td>\n",
       "      <td>http://www.korea.kr/briefing/blueHouseView.do;...</td>\n",
       "      <td>기타</td>\n",
       "    </tr>\n",
       "  </tbody>\n",
       "</table>\n",
       "</div>"
      ],
      "text/plain": [
       "                                               title        date  \\\n",
       "0  경제사회노동위원회 위촉장 수여 및 제1차 회의 결과 관련 문성현 경제사회노동위원회 ...  2018.11.22   \n",
       "1  문재인 대통령, 영세자영업자·중소상공인 지원을 위한 금융지원 확대 등 금융제도 개선...  2018.11.22   \n",
       "2    문 대통령, G20 정상회의 참석 및 제3차 반부패정책협의회 결과 관련 대변인 브리핑  2018.11.20   \n",
       "3                         한-중 정상회담 결과 관련 김의겸 대변인 브리핑  2018.11.17   \n",
       "4                             한-호주 정상회담 결과 관련 서면 브리핑  2018.11.17   \n",
       "\n",
       "                                                text  \\\n",
       "0   오늘 경제사회노동위원회 위원들이 위촉장을 수여하고, 제1차 본회의를 했는데 관련된...   \n",
       "1   문재인 대통령은 오늘 오전 10시, 최종구 금융위원장으로부터 금융 현안을 보고 받...   \n",
       "2   □ G20 정상회의 참석 관련\\n\\n\\n 문재인 대통령은 11월27일부터 12월4...   \n",
       "3   문재인 대통령은 조금 전 오후 7시20분부터 8시까지 40분 동안 시진핑 중국 국...   \n",
       "4   문재인 대통령은 오늘 오전 11시15분부터  12시10분까지(현지시간) 스콧 모리...   \n",
       "\n",
       "                       최빈단어  \\\n",
       "0       사회적 앞으로 대화가 오늘 역할을    \n",
       "1          ｏ 추진할 있도록 대한 적극    \n",
       "2  대통령은 G20 문재인 정상회의에 정상회의    \n",
       "3        문재인 한반도 시진핑 주석은 두    \n",
       "4        스콧 대통령은 문 모리슨 총리는    \n",
       "\n",
       "                                                 url  분류  \n",
       "0  http://www.korea.kr/briefing/blueHouseView.do;...  기타  \n",
       "1  http://www.korea.kr/briefing/blueHouseView.do;...  기타  \n",
       "2  http://www.korea.kr/briefing/blueHouseView.do;...  기타  \n",
       "3  http://www.korea.kr/briefing/blueHouseView.do;...  기타  \n",
       "4  http://www.korea.kr/briefing/blueHouseView.do;...  기타  "
      ]
     },
     "execution_count": 54,
     "metadata": {},
     "output_type": "execute_result"
    }
   ],
   "source": [
    "df.head()"
   ]
  },
  {
   "cell_type": "code",
   "execution_count": 55,
   "metadata": {},
   "outputs": [],
   "source": [
    "df.to_excel('./결과.xls', index=False)"
   ]
  },
  {
   "cell_type": "code",
   "execution_count": null,
   "metadata": {},
   "outputs": [],
   "source": []
  }
 ],
 "metadata": {
  "kernelspec": {
   "display_name": "Python 3",
   "language": "python",
   "name": "python3"
  },
  "language_info": {
   "codemirror_mode": {
    "name": "ipython",
    "version": 3
   },
   "file_extension": ".py",
   "mimetype": "text/x-python",
   "name": "python",
   "nbconvert_exporter": "python",
   "pygments_lexer": "ipython3",
   "version": "3.6.7"
  }
 },
 "nbformat": 4,
 "nbformat_minor": 2
}
