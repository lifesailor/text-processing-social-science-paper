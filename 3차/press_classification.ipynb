{
 "cells": [
  {
   "cell_type": "code",
   "execution_count": 1,
   "metadata": {},
   "outputs": [],
   "source": [
    "import pandas as pd\n",
    "import numpy as np"
   ]
  },
  {
   "cell_type": "markdown",
   "metadata": {},
   "source": [
    "# 1. Keyword Processing"
   ]
  },
  {
   "cell_type": "code",
   "execution_count": 2,
   "metadata": {},
   "outputs": [],
   "source": [
    "keyword ={}"
   ]
  },
  {
   "cell_type": "code",
   "execution_count": 3,
   "metadata": {},
   "outputs": [],
   "source": [
    "keyword['eco'] = \"GDP, GNP, 경제, 경제동향, 경제위기, 경제전망, 경제정책, 경제팀, 경제협력, 공공정책, 공익제보, 광고, 교부금, 교부세, 국민소득, 국채, 금융, 금융사기, 기금, 기본소득, 내부고발, 달러, 담보, 대출, 디플레, 물가, 복권, 부담금, 분식회계, 사업평가, 성과관리, 세금, 세무, 예산, 외환, 은행, 인프레, 재정, 재정수지, 재정지출, 정부예산, 정부조달, 조달, 조세, 조세회피, 주가조작, 주식, 채권, 통화, 투자, 화폐, 환율, 환전, 회계\"\n",
    "keyword['edu'] =  \"EBS, NCS, 고등, 고등학교, 교복, 교원, 교육, 교육과정, 교육과정, 교육비, 교육평가, 국가직무능력표준, 남고, 누리과정, 다문화학생, 대입, 대학, 대학특성화지원, 대학평가, 돌봄교실, 모의고사, 방과후, 사립고, 사립학교, 산학협력, 선생님, 수능, 수업, 여고, 예술교육, 유치원, 자사고, 자유학기제, 장애학생, 장학금, 재외동포교육, 전문대, 전문대학육성, 중등, 직업교육, 진로, 체육, 초등, 클럽 특목고, 특목고, 특수학교, 평생학습, 프로그램, 학교, 학교급식, 학교폭력, 학기, 학부모, 학생, 학술연구, 학자금, 학종\"\n",
    "keyword['land'] = \"GIS, SOC, 개발, 제한구역, 건설, 건설업, 건축, 공간, 구도심, 국토, 국토관리, 균형, 낙후지역, 녹색건축, 도시, 도시경관, 도시디자인, 도시재생, 드림센터, 땅, 매매, 물관리, 보금자리, 부동산, 분양, 사이언스파크, 산업단지, 새만금, 설계, 스마트시티, 시공, 실거래, 실수요, 아파트, 연안, 오지개발, 월세, 인프라, 임대주택, 재건축, 전세, 전세금, 전세금보증, 주거, 주거급여, 주거환경, 주택가격, 주택개발, 주택도시기금, 주택문제, 주택보급, 주택시장, 주택정책, 증축, 지리정보, 지역발전, 지역산업진흥, 지역특성화, 지적, 지질정보, 집값, 청약, 층간소음, 캠퍼스타운, 클러스터, 토지, 토지개발, 하천정비, 해외건설, 행복주택, 행정도시\"\n",
    "keyword['labor'] = \"52시간, 경단, 경력단절, 고용, 고용안정, 고용연장, 고용평등, 근로복지, 근로시간, 근로조건, 급여, 노동법, 노동시장, 노동정책, 노동조합, 노사관계, 노조, 노총, 단체교섭, 대체인력, 대학일자리센터, 병행제, 부당해고, 블라인드, 산재, 새로일하기센터, 성희롱, 시간선택제, 실업, 안심일터, 알바, 연봉, 월급, 인적자원개발, 일가정양립, 일자리, 일학습, 임금, 장려금, 재취업, 정규직, 중소기업, 직무체험, 직업교육, 직업능력개발, 직업윤리, 직업의식, 직장, 직장어린이집, 채용, 청년내일, 청년수당, 청년취업, 최저임금, 취업성공패키지, 클린사업장, 파업, 평생직업, 피크제, 해고, 해외취업지원, 휴가\" \n",
    "keyword['welfare'] = \"가습기, 간호사, 감염, 건강검진, 건강기능식품, 건강보험, 계란, 고용보험, 공공보건의료, 국민기초생활보장, 국민연금, 기초연금, 노숙인, 노인복지, 노인복지시설, 노인수당, 노인여가활동, 먹거리, 메르스, 미세먼지, 병원, 보건, 보건소, 보육교사, 보험, 복지시설, 부양의무제, 빈곤, 사회보험, 사회복지, 사회복지사, 살충제, 생리대, 소년소녀가장, 소아, 식품, 식품위생, 실업, 실업자, 심근경색, 심장, 아동보호, 아동보호시설, 아동복지법, 아동수당, 암, 여성, 연금, 예방접종, 원격의료, 위생, 육아휴직, 의료, 의사, 입양, 자살, 장애인, 전염병, 조류인플루엔자, 조무사, 중증, 차상위, 청소년보호, 청소년복지, 최저생활보장, 축산, 출산 취약계층, 한의약, 항생제\""
   ]
  },
  {
   "cell_type": "code",
   "execution_count": 4,
   "metadata": {},
   "outputs": [],
   "source": [
    "for word in keyword.keys():\n",
    "    keyword[word] = keyword[word].replace(' ', '').split(',')"
   ]
  },
  {
   "cell_type": "markdown",
   "metadata": {},
   "source": [
    "# 2. Press"
   ]
  },
  {
   "cell_type": "code",
   "execution_count": 5,
   "metadata": {},
   "outputs": [],
   "source": [
    "import os\n",
    "\n",
    "press_path = os.path.join(os.path.abspath('.'), 'press')\n",
    "\n",
    "press_list = []\n",
    "for file in os.listdir(press_path):\n",
    "    if '.csv' in file:\n",
    "        press_list.append(pd.read_csv(os.path.join(press_path, file)))"
   ]
  },
  {
   "cell_type": "code",
   "execution_count": 6,
   "metadata": {},
   "outputs": [],
   "source": [
    "press_dict = {}"
   ]
  },
  {
   "cell_type": "code",
   "execution_count": 7,
   "metadata": {},
   "outputs": [],
   "source": [
    "files = os.listdir(press_path)[1:]\n",
    "files = [file.split('.')[0] for file in files]"
   ]
  },
  {
   "cell_type": "code",
   "execution_count": 8,
   "metadata": {},
   "outputs": [],
   "source": [
    "for i in range(5):\n",
    "    press_dict[files[i]] = press_list[i]"
   ]
  },
  {
   "cell_type": "markdown",
   "metadata": {},
   "source": [
    "# 3. Text processing"
   ]
  },
  {
   "cell_type": "markdown",
   "metadata": {},
   "source": [
    "## 1. 데이터 프레임 필요 없는 컬럼 제거"
   ]
  },
  {
   "cell_type": "code",
   "execution_count": 9,
   "metadata": {},
   "outputs": [],
   "source": [
    "for press, data in press_dict.items():\n",
    "    columns = data.columns\n",
    "    new_columns = []\n",
    "    \n",
    "    for column in columns:\n",
    "        if not 'Unnamed' in column:\n",
    "            new_columns.append(column)\n",
    "    \n",
    "    press_dict[press] = data[new_columns]"
   ]
  },
  {
   "cell_type": "code",
   "execution_count": 10,
   "metadata": {},
   "outputs": [],
   "source": [
    "for press, data in press_dict.items():\n",
    "    press_dict[press] = press_dict[press].rename(str.lower, axis='columns')"
   ]
  },
  {
   "cell_type": "markdown",
   "metadata": {},
   "source": [
    "## 2. 달 맞추기"
   ]
  },
  {
   "cell_type": "code",
   "execution_count": 11,
   "metadata": {},
   "outputs": [],
   "source": [
    "press_dict.keys()\n",
    "press_dict['dong_11']['date'] = press_dict['dong_11']['date'].apply(lambda x: x.replace('-', '.'))"
   ]
  },
  {
   "cell_type": "code",
   "execution_count": 12,
   "metadata": {},
   "outputs": [
    {
     "data": {
      "text/html": [
       "<div>\n",
       "<style scoped>\n",
       "    .dataframe tbody tr th:only-of-type {\n",
       "        vertical-align: middle;\n",
       "    }\n",
       "\n",
       "    .dataframe tbody tr th {\n",
       "        vertical-align: top;\n",
       "    }\n",
       "\n",
       "    .dataframe thead th {\n",
       "        text-align: right;\n",
       "    }\n",
       "</style>\n",
       "<table border=\"1\" class=\"dataframe\">\n",
       "  <thead>\n",
       "    <tr style=\"text-align: right;\">\n",
       "      <th></th>\n",
       "      <th>date</th>\n",
       "      <th>title</th>\n",
       "    </tr>\n",
       "  </thead>\n",
       "  <tbody>\n",
       "    <tr>\n",
       "      <th>0</th>\n",
       "      <td>2010.09.01 3:00</td>\n",
       "      <td>[사설]김정일의 對中구걸외교 vs 미국의 고강도 제재</td>\n",
       "    </tr>\n",
       "    <tr>\n",
       "      <th>1</th>\n",
       "      <td>2010.09.01 3:00</td>\n",
       "      <td>[사설]부실대학 구조조정, 퇴로도 열어줘야</td>\n",
       "    </tr>\n",
       "    <tr>\n",
       "      <th>2</th>\n",
       "      <td>2010.09.01 3:00</td>\n",
       "      <td>[사설]한나라당이 국민에게 희망 줄 비전은 뭔가</td>\n",
       "    </tr>\n",
       "    <tr>\n",
       "      <th>3</th>\n",
       "      <td>2010.09.02 3:00</td>\n",
       "      <td>[사설]기아차 무파업 타결, 타임오프 정착 청신호다</td>\n",
       "    </tr>\n",
       "    <tr>\n",
       "      <th>4</th>\n",
       "      <td>2010.09.02 3:00</td>\n",
       "      <td>[사설]민주당은 MB 발목잡기 말고 受權비전 있는가</td>\n",
       "    </tr>\n",
       "  </tbody>\n",
       "</table>\n",
       "</div>"
      ],
      "text/plain": [
       "              date                          title\n",
       "0  2010.09.01 3:00  [사설]김정일의 對中구걸외교 vs 미국의 고강도 제재\n",
       "1  2010.09.01 3:00        [사설]부실대학 구조조정, 퇴로도 열어줘야\n",
       "2  2010.09.01 3:00     [사설]한나라당이 국민에게 희망 줄 비전은 뭔가\n",
       "3  2010.09.02 3:00   [사설]기아차 무파업 타결, 타임오프 정착 청신호다\n",
       "4  2010.09.02 3:00   [사설]민주당은 MB 발목잡기 말고 受權비전 있는가"
      ]
     },
     "execution_count": 12,
     "metadata": {},
     "output_type": "execute_result"
    }
   ],
   "source": [
    "press_dict['dong_11'].head()"
   ]
  },
  {
   "cell_type": "code",
   "execution_count": 15,
   "metadata": {},
   "outputs": [],
   "source": [
    "def change_month_format(x):\n",
    "    year = str(x).split('.')[0]\n",
    "    mon = str(x).split('.')[1]\n",
    "    \n",
    "    if mon in ['1','2','3','4','5','6','7','8','9']:\n",
    "        mon = '0' + mon\n",
    "    year_mon = ''.join([year, mon])\n",
    "    return year_mon"
   ]
  },
  {
   "cell_type": "code",
   "execution_count": 16,
   "metadata": {},
   "outputs": [],
   "source": [
    "for key, value in press_dict.items():\n",
    "    press_dict[key]['date'] = press_dict[key]['date'].apply(lambda x: change_month_format(x))"
   ]
  },
  {
   "cell_type": "code",
   "execution_count": 17,
   "metadata": {},
   "outputs": [
    {
     "name": "stdout",
     "output_type": "stream",
     "text": [
      "     date                             title\n",
      "0  201009        [사설]‘공정한 사회’가 구호에 그치지 않으려면\n",
      "1  201009           [사설]‘김황식 청문회’ 부실화를 우려한다\n",
      "2  201009         [사설]‘김황식 청문회’가 검증해야 할 의혹들\n",
      "3  201009  [사설]‘동성애 영화’ 판결, 성적 소수자 보호 계기 돼야\n",
      "4  201009    [사설]‘사교육 없는 학교’ 지원사업 제대로 되고 있나\n",
      "     date                               title\n",
      "0  201009     [사설] 공금 횡령·성희롱 의원 원칙대로 조속히 처리하라\n",
      "1  201009  [사설] 빚더미 LH에 '지역구 사업 계속하라' 압박하는 與野\n",
      "2  201009                 [사설] 한국 외교 시험대에 오른다\n",
      "3  201009   [사설] ‘정치의 사법화’ 경고, 가볍게 흘려들을 일 아니다\n",
      "4  201009        [사설] ‘철도 르네상스’ 투자 더 과감하게 늘려야\n",
      "     date                              title\n",
      "0  201009  [사설] 급증한 퇴직 공직자 짬짜미 취업과 무너지는 공직윤리\n",
      "1  201009         [사설] “슬프고 짜증나는” 총리 후보자 김황식\n",
      "2  201009        [사설] 삼성반도체 유해물질, 정부 감독 강화하라\n",
      "3  201009        [사설] 김장 차질 없도록 채소 수급 대책 세워야\n",
      "4  201009      [사설] 대기업 규제 없는 대-중소기업 상생은 허구다\n",
      "     date                            title\n",
      "0  201009  [사설] 북한은 개혁·개방 강조한 후 주석 충고 경청하라\n",
      "1  201009       [사설] 반복되는 쌀 과잉, 근본대책이 절실하다\n",
      "2  201009         [사설] 비리 의원에 대한 보호막은 걷어내야\n",
      "3  201009  [사설] 개헌 정말 할 거면 여권 내부부터 의견 조율하라\n",
      "4  201009      [사설] 대학 구조조정, 퇴출 경로 마련이 먼저다\n",
      "     date                          title\n",
      "0  201009  [사설]김정일의 對中구걸외교 vs 미국의 고강도 제재\n",
      "1  201009        [사설]부실대학 구조조정, 퇴로도 열어줘야\n",
      "2  201009     [사설]한나라당이 국민에게 희망 줄 비전은 뭔가\n",
      "3  201009   [사설]기아차 무파업 타결, 타임오프 정착 청신호다\n",
      "4  201009   [사설]민주당은 MB 발목잡기 말고 受權비전 있는가\n"
     ]
    }
   ],
   "source": [
    "for value in press_dict.values():\n",
    "    print(value.head())"
   ]
  },
  {
   "cell_type": "markdown",
   "metadata": {},
   "source": [
    "## 3. 재료 준비하기"
   ]
  },
  {
   "cell_type": "markdown",
   "metadata": {},
   "source": [
    "- monthly 데이터를 따로 처리해야 함\n",
    "- keyword 카운팅을 해야 함\n",
    "- 5개의 신문사에 대해서 해야 함"
   ]
  },
  {
   "cell_type": "markdown",
   "metadata": {},
   "source": [
    "### 1. month"
   ]
  },
  {
   "cell_type": "code",
   "execution_count": 18,
   "metadata": {},
   "outputs": [],
   "source": [
    "months = []\n",
    "\n",
    "for key, value in press_dict.items():\n",
    "    months.extend(value['date'].unique())\n",
    "    \n",
    "months = set(months)"
   ]
  },
  {
   "cell_type": "markdown",
   "metadata": {},
   "source": [
    "### 2. keyword"
   ]
  },
  {
   "cell_type": "code",
   "execution_count": 19,
   "metadata": {},
   "outputs": [
    {
     "data": {
      "text/plain": [
       "dict_keys(['eco', 'edu', 'land', 'labor', 'welfare'])"
      ]
     },
     "execution_count": 19,
     "metadata": {},
     "output_type": "execute_result"
    }
   ],
   "source": [
    "keyword.keys()"
   ]
  },
  {
   "cell_type": "markdown",
   "metadata": {},
   "source": [
    "### 3. press"
   ]
  },
  {
   "cell_type": "code",
   "execution_count": 20,
   "metadata": {},
   "outputs": [
    {
     "data": {
      "text/plain": [
       "dict_keys(['khan_11', 'cho_11', 'han_11', 'jung_11', 'dong_11'])"
      ]
     },
     "execution_count": 20,
     "metadata": {},
     "output_type": "execute_result"
    }
   ],
   "source": [
    "press_dict.keys()"
   ]
  },
  {
   "cell_type": "markdown",
   "metadata": {},
   "source": [
    "## 4. Text Classification"
   ]
  },
  {
   "cell_type": "markdown",
   "metadata": {},
   "source": [
    "- 최종 포맷\n",
    "\n",
    "1) 각 신문사별\n",
    "2) 각 월별\n",
    "3) 각 키워드별 카운트 합"
   ]
  },
  {
   "cell_type": "code",
   "execution_count": 21,
   "metadata": {},
   "outputs": [],
   "source": [
    "def category_classifier(title):\n",
    "    category_lst = []\n",
    "    # keyword_dictionary\n",
    "    for category, words in keyword.items():\n",
    "        for word in words: \n",
    "            if word in title:\n",
    "                if category not in category_lst:\n",
    "                    category_lst.append(category)\n",
    "                    \n",
    "    if len(category_lst) == 0:\n",
    "        category_lst.append('etc')\n",
    "    return category_lst"
   ]
  },
  {
   "cell_type": "code",
   "execution_count": 24,
   "metadata": {},
   "outputs": [],
   "source": [
    "keyword_count_dict = {}\n",
    "for key in keyword:\n",
    "    keyword_count_dict[key] = 0\n",
    "keyword_count_dict['etc'] = 0"
   ]
  },
  {
   "cell_type": "code",
   "execution_count": 25,
   "metadata": {},
   "outputs": [],
   "source": [
    "def refresh_count(keyword_count_dict):\n",
    "    for key in keyword_count_dict.keys():\n",
    "        keyword_count_dict[key] = 0\n",
    "    return keyword_count_dict"
   ]
  },
  {
   "cell_type": "code",
   "execution_count": 26,
   "metadata": {},
   "outputs": [],
   "source": [
    "# final: newpaper, month, eco, edu, land, labor, welfare, etc\n",
    "final = []\n",
    "\n",
    "for press in press_dict.keys():\n",
    "    for month in months:\n",
    "        \n",
    "        # filter dataframe by press and month\n",
    "        data = press_dict[press]\n",
    "        data = data[data['date'] ==  month]\n",
    "        \n",
    "        # if it is not none\n",
    "        if data is not None:\n",
    "            \n",
    "            # count category\n",
    "            for row in data.iterrows():\n",
    "                category = category_classifier(row[1].values[1])\n",
    "                \n",
    "                # update cound\n",
    "                for key in keyword_count_dict.keys():\n",
    "                    if key in category:\n",
    "                        keyword_count_dict[key] += 1\n",
    "\n",
    "        # add a row into dataframe\n",
    "        final.append([press, \n",
    "                      month, \n",
    "                      keyword_count_dict['eco'],\n",
    "                      keyword_count_dict['edu'],\n",
    "                      keyword_count_dict['land'],\n",
    "                      keyword_count_dict['labor'], \n",
    "                      keyword_count_dict['welfare'],\n",
    "                      keyword_count_dict['etc']])\n",
    "        keyword_count_dict = refresh_count(keyword_count_dict)        "
   ]
  },
  {
   "cell_type": "code",
   "execution_count": 27,
   "metadata": {
    "scrolled": true
   },
   "outputs": [],
   "source": [
    "final = pd.DataFrame(final, columns=['newspaper', 'month', 'eco', 'edu', 'land', 'labor', 'welfare', 'etc'])"
   ]
  },
  {
   "cell_type": "code",
   "execution_count": 30,
   "metadata": {},
   "outputs": [],
   "source": [
    "final = final.sort_values(['newspaper', 'month'])"
   ]
  },
  {
   "cell_type": "code",
   "execution_count": 32,
   "metadata": {},
   "outputs": [],
   "source": [
    "final['newspaper'] = final['newspaper'].apply(lambda x: x.split('_')[0])"
   ]
  },
  {
   "cell_type": "code",
   "execution_count": 34,
   "metadata": {},
   "outputs": [
    {
     "data": {
      "text/html": [
       "<div>\n",
       "<style scoped>\n",
       "    .dataframe tbody tr th:only-of-type {\n",
       "        vertical-align: middle;\n",
       "    }\n",
       "\n",
       "    .dataframe tbody tr th {\n",
       "        vertical-align: top;\n",
       "    }\n",
       "\n",
       "    .dataframe thead th {\n",
       "        text-align: right;\n",
       "    }\n",
       "</style>\n",
       "<table border=\"1\" class=\"dataframe\">\n",
       "  <thead>\n",
       "    <tr style=\"text-align: right;\">\n",
       "      <th></th>\n",
       "      <th>newspaper</th>\n",
       "      <th>month</th>\n",
       "      <th>eco</th>\n",
       "      <th>edu</th>\n",
       "      <th>land</th>\n",
       "      <th>labor</th>\n",
       "      <th>welfare</th>\n",
       "      <th>etc</th>\n",
       "    </tr>\n",
       "  </thead>\n",
       "  <tbody>\n",
       "    <tr>\n",
       "      <th>0</th>\n",
       "      <td>cho</td>\n",
       "      <td>201001</td>\n",
       "      <td>0</td>\n",
       "      <td>0</td>\n",
       "      <td>0</td>\n",
       "      <td>0</td>\n",
       "      <td>0</td>\n",
       "      <td>0</td>\n",
       "    </tr>\n",
       "    <tr>\n",
       "      <th>1</th>\n",
       "      <td>cho</td>\n",
       "      <td>201009</td>\n",
       "      <td>9</td>\n",
       "      <td>6</td>\n",
       "      <td>1</td>\n",
       "      <td>4</td>\n",
       "      <td>1</td>\n",
       "      <td>50</td>\n",
       "    </tr>\n",
       "    <tr>\n",
       "      <th>2</th>\n",
       "      <td>cho</td>\n",
       "      <td>201010</td>\n",
       "      <td>6</td>\n",
       "      <td>2</td>\n",
       "      <td>0</td>\n",
       "      <td>3</td>\n",
       "      <td>1</td>\n",
       "      <td>68</td>\n",
       "    </tr>\n",
       "    <tr>\n",
       "      <th>3</th>\n",
       "      <td>cho</td>\n",
       "      <td>201011</td>\n",
       "      <td>4</td>\n",
       "      <td>2</td>\n",
       "      <td>0</td>\n",
       "      <td>0</td>\n",
       "      <td>0</td>\n",
       "      <td>68</td>\n",
       "    </tr>\n",
       "    <tr>\n",
       "      <th>4</th>\n",
       "      <td>cho</td>\n",
       "      <td>201012</td>\n",
       "      <td>3</td>\n",
       "      <td>6</td>\n",
       "      <td>2</td>\n",
       "      <td>0</td>\n",
       "      <td>2</td>\n",
       "      <td>67</td>\n",
       "    </tr>\n",
       "  </tbody>\n",
       "</table>\n",
       "</div>"
      ],
      "text/plain": [
       "  newspaper   month  eco  edu  land  labor  welfare  etc\n",
       "0       cho  201001    0    0     0      0        0    0\n",
       "1       cho  201009    9    6     1      4        1   50\n",
       "2       cho  201010    6    2     0      3        1   68\n",
       "3       cho  201011    4    2     0      0        0   68\n",
       "4       cho  201012    3    6     2      0        2   67"
      ]
     },
     "execution_count": 34,
     "metadata": {},
     "output_type": "execute_result"
    }
   ],
   "source": [
    "final.reset_index(inplace=True, drop=True)\n",
    "final.head()"
   ]
  },
  {
   "cell_type": "code",
   "execution_count": 35,
   "metadata": {},
   "outputs": [],
   "source": [
    "final.to_csv('./classification.csv', index=False)"
   ]
  }
 ],
 "metadata": {
  "kernelspec": {
   "display_name": "Python 3",
   "language": "python",
   "name": "python3"
  },
  "language_info": {
   "codemirror_mode": {
    "name": "ipython",
    "version": 3
   },
   "file_extension": ".py",
   "mimetype": "text/x-python",
   "name": "python",
   "nbconvert_exporter": "python",
   "pygments_lexer": "ipython3",
   "version": "3.6.7"
  }
 },
 "nbformat": 4,
 "nbformat_minor": 2
}
