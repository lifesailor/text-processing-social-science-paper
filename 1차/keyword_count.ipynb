{
 "cells": [
  {
   "cell_type": "code",
   "execution_count": 62,
   "metadata": {},
   "outputs": [],
   "source": [
    "import pandas as pd\n",
    "import numpy as np"
   ]
  },
  {
   "cell_type": "markdown",
   "metadata": {},
   "source": [
    "# 1. Keyword Processing"
   ]
  },
  {
   "cell_type": "code",
   "execution_count": 63,
   "metadata": {},
   "outputs": [],
   "source": [
    "keyword ={}"
   ]
  },
  {
   "cell_type": "code",
   "execution_count": 64,
   "metadata": {},
   "outputs": [],
   "source": [
    "keyword['경제'] = ['경제, 경제정책, 경제동향, 경제전망, 재정, 재정수지, 재정지출, 사업평가, 공공정책, 연금관리, 정부 조달, 조세, 세금, 세무조사, 조세회피, 세무, 금융, 은행, 환율, 달러, 투자, 화폐, 담보, 대출, 채권, 통화, 외환, 주식, 광고, 회계, 경영, 정부예산, 회계, 부담금, 기금, 성과관리, 부동산']\n",
    "keyword['교육'] = ['교원, 학부모, 유치원, 누리과정, 교육과정, 방과후 돌봄서비스, 자유학기제, 진로교육, 직업교육, 학교폭력예방, 학교급식, 안전관리, 장애학생, 다문화학생, 탈북학생, 교육비, 재외동포교육, 민수시민, 체육교육, 예술교육, 대학특성화지원, 전문대학육성, 학자금, 장학금, 취업지원, 학술연구, 산학협력, 대입제도, 국가직무능력표준, 평생학습, 초등학교, 중학교, 고등학교, ncs, 교육 프로그램, 교육과정, 교복, 사립고']\n",
    "keyword['노동'] = ['노동정책, 노동시장, 고용, 실업, 근로조건, 임금, 근로복지, 휴가, 임금격차, 노사관계, 노조, 노동조합, 노동, 파업, 단체교섭, 노동법, 직업윤리, 평생직업, 직업교육, 인적자원개발, 직업의식']"
   ]
  },
  {
   "cell_type": "code",
   "execution_count": 65,
   "metadata": {},
   "outputs": [],
   "source": [
    "# split by ','\n",
    "for category, words in keyword.items():\n",
    "    keyword[category] = words[0].split(',')"
   ]
  },
  {
   "cell_type": "code",
   "execution_count": 66,
   "metadata": {},
   "outputs": [],
   "source": [
    "processed_keyword = {}"
   ]
  },
  {
   "cell_type": "code",
   "execution_count": 67,
   "metadata": {},
   "outputs": [],
   "source": [
    "# delete ' '\n",
    "for category, words in keyword.items():\n",
    "    for i, word in enumerate(keyword[category]):\n",
    "        if i == 0:\n",
    "            processed_keyword[category] = [word.strip()]\n",
    "            continue\n",
    "        processed_keyword[category].append(word.strip())"
   ]
  },
  {
   "cell_type": "code",
   "execution_count": 68,
   "metadata": {},
   "outputs": [
    {
     "ename": "KeyError",
     "evalue": "'economy'",
     "output_type": "error",
     "traceback": [
      "\u001b[0;31m---------------------------------------------------------------------------\u001b[0m",
      "\u001b[0;31mKeyError\u001b[0m                                  Traceback (most recent call last)",
      "\u001b[0;32m<ipython-input-68-50f24d50855c>\u001b[0m in \u001b[0;36m<module>\u001b[0;34m()\u001b[0m\n\u001b[0;32m----> 1\u001b[0;31m \u001b[0mprocessed_keyword\u001b[0m\u001b[0;34m[\u001b[0m\u001b[0;34m'economy'\u001b[0m\u001b[0;34m]\u001b[0m\u001b[0;34m[\u001b[0m\u001b[0;34m:\u001b[0m\u001b[0;36m5\u001b[0m\u001b[0;34m]\u001b[0m\u001b[0;34m\u001b[0m\u001b[0;34m\u001b[0m\u001b[0m\n\u001b[0m",
      "\u001b[0;31mKeyError\u001b[0m: 'economy'"
     ]
    }
   ],
   "source": [
    "processed_keyword['economy'][:5]"
   ]
  },
  {
   "cell_type": "markdown",
   "metadata": {},
   "source": [
    "# 2. Text Classification"
   ]
  },
  {
   "cell_type": "code",
   "execution_count": 69,
   "metadata": {},
   "outputs": [],
   "source": [
    "df = pd.read_excel('./의회의제.xls')"
   ]
  },
  {
   "cell_type": "code",
   "execution_count": 70,
   "metadata": {},
   "outputs": [
    {
     "data": {
      "text/html": [
       "<div>\n",
       "<style scoped>\n",
       "    .dataframe tbody tr th:only-of-type {\n",
       "        vertical-align: middle;\n",
       "    }\n",
       "\n",
       "    .dataframe tbody tr th {\n",
       "        vertical-align: top;\n",
       "    }\n",
       "\n",
       "    .dataframe thead th {\n",
       "        text-align: right;\n",
       "    }\n",
       "</style>\n",
       "<table border=\"1\" class=\"dataframe\">\n",
       "  <thead>\n",
       "    <tr style=\"text-align: right;\">\n",
       "      <th></th>\n",
       "      <th>주최</th>\n",
       "      <th>일자</th>\n",
       "      <th>시간</th>\n",
       "      <th>장소</th>\n",
       "      <th>제목</th>\n",
       "      <th>분류</th>\n",
       "    </tr>\n",
       "  </thead>\n",
       "  <tbody>\n",
       "    <tr>\n",
       "      <th>0</th>\n",
       "      <td>정두언 의원실</td>\n",
       "      <td>2010-01-05</td>\n",
       "      <td>16:30</td>\n",
       "      <td>국회도서관 강당</td>\n",
       "      <td>2010 공상연 출범식 및 군·경·소방 국가유공자 등 관련법 입법정책토론회</td>\n",
       "      <td>NaN</td>\n",
       "    </tr>\n",
       "    <tr>\n",
       "      <th>1</th>\n",
       "      <td>전현희 의원실</td>\n",
       "      <td>2010-01-12</td>\n",
       "      <td>15:00</td>\n",
       "      <td>의원회관 대회의실</td>\n",
       "      <td>안정적인 중환자 보호와 중환자실 개선을 위한 정책토론회 : 전문의 전담제도 도입추진...</td>\n",
       "      <td>NaN</td>\n",
       "    </tr>\n",
       "    <tr>\n",
       "      <th>2</th>\n",
       "      <td>정미경 의원실</td>\n",
       "      <td>2010-01-20</td>\n",
       "      <td>14:00~16:00</td>\n",
       "      <td>의원회관 제1소회의실</td>\n",
       "      <td>경기 고등법원 설치를 위한 공청회</td>\n",
       "      <td>NaN</td>\n",
       "    </tr>\n",
       "    <tr>\n",
       "      <th>3</th>\n",
       "      <td>김재윤 의원실</td>\n",
       "      <td>2010-01-22</td>\n",
       "      <td>10:00</td>\n",
       "      <td>국회도서관 강당</td>\n",
       "      <td>기후변화시대, 석탄·고황유가 기업경쟁력일까 : 산업계 연료 전환에 따른 대기환경 및...</td>\n",
       "      <td>NaN</td>\n",
       "    </tr>\n",
       "    <tr>\n",
       "      <th>4</th>\n",
       "      <td>김부겸 의원실</td>\n",
       "      <td>2010-01-26</td>\n",
       "      <td>14:00</td>\n",
       "      <td>의원회관 제1소회의실</td>\n",
       "      <td>생활체육 무엇이 문제인가? : 후진적 생활체육 정책과 제도! 생활체육의 혁신적 발전...</td>\n",
       "      <td>NaN</td>\n",
       "    </tr>\n",
       "  </tbody>\n",
       "</table>\n",
       "</div>"
      ],
      "text/plain": [
       "        주최          일자           시간           장소  \\\n",
       "0  정두언 의원실  2010-01-05        16:30     국회도서관 강당   \n",
       "1  전현희 의원실  2010-01-12        15:00    의원회관 대회의실   \n",
       "2  정미경 의원실  2010-01-20  14:00~16:00  의원회관 제1소회의실   \n",
       "3  김재윤 의원실  2010-01-22        10:00     국회도서관 강당   \n",
       "4  김부겸 의원실  2010-01-26        14:00  의원회관 제1소회의실   \n",
       "\n",
       "                                                  제목   분류  \n",
       "0          2010 공상연 출범식 및 군·경·소방 국가유공자 등 관련법 입법정책토론회  NaN  \n",
       "1  안정적인 중환자 보호와 중환자실 개선을 위한 정책토론회 : 전문의 전담제도 도입추진...  NaN  \n",
       "2                                 경기 고등법원 설치를 위한 공청회  NaN  \n",
       "3  기후변화시대, 석탄·고황유가 기업경쟁력일까 : 산업계 연료 전환에 따른 대기환경 및...  NaN  \n",
       "4  생활체육 무엇이 문제인가? : 후진적 생활체육 정책과 제도! 생활체육의 혁신적 발전...  NaN  "
      ]
     },
     "execution_count": 70,
     "metadata": {},
     "output_type": "execute_result"
    }
   ],
   "source": [
    "df.head()"
   ]
  },
  {
   "cell_type": "code",
   "execution_count": 71,
   "metadata": {},
   "outputs": [],
   "source": [
    "for index, row in df.iterrows():\n",
    "    row['분류'] = ''"
   ]
  },
  {
   "cell_type": "code",
   "execution_count": 72,
   "metadata": {},
   "outputs": [
    {
     "data": {
      "text/html": [
       "<div>\n",
       "<style scoped>\n",
       "    .dataframe tbody tr th:only-of-type {\n",
       "        vertical-align: middle;\n",
       "    }\n",
       "\n",
       "    .dataframe tbody tr th {\n",
       "        vertical-align: top;\n",
       "    }\n",
       "\n",
       "    .dataframe thead th {\n",
       "        text-align: right;\n",
       "    }\n",
       "</style>\n",
       "<table border=\"1\" class=\"dataframe\">\n",
       "  <thead>\n",
       "    <tr style=\"text-align: right;\">\n",
       "      <th></th>\n",
       "      <th>주최</th>\n",
       "      <th>일자</th>\n",
       "      <th>시간</th>\n",
       "      <th>장소</th>\n",
       "      <th>제목</th>\n",
       "      <th>분류</th>\n",
       "    </tr>\n",
       "  </thead>\n",
       "  <tbody>\n",
       "    <tr>\n",
       "      <th>0</th>\n",
       "      <td>정두언 의원실</td>\n",
       "      <td>2010-01-05</td>\n",
       "      <td>16:30</td>\n",
       "      <td>국회도서관 강당</td>\n",
       "      <td>2010 공상연 출범식 및 군·경·소방 국가유공자 등 관련법 입법정책토론회</td>\n",
       "      <td></td>\n",
       "    </tr>\n",
       "    <tr>\n",
       "      <th>1</th>\n",
       "      <td>전현희 의원실</td>\n",
       "      <td>2010-01-12</td>\n",
       "      <td>15:00</td>\n",
       "      <td>의원회관 대회의실</td>\n",
       "      <td>안정적인 중환자 보호와 중환자실 개선을 위한 정책토론회 : 전문의 전담제도 도입추진...</td>\n",
       "      <td></td>\n",
       "    </tr>\n",
       "    <tr>\n",
       "      <th>2</th>\n",
       "      <td>정미경 의원실</td>\n",
       "      <td>2010-01-20</td>\n",
       "      <td>14:00~16:00</td>\n",
       "      <td>의원회관 제1소회의실</td>\n",
       "      <td>경기 고등법원 설치를 위한 공청회</td>\n",
       "      <td></td>\n",
       "    </tr>\n",
       "    <tr>\n",
       "      <th>3</th>\n",
       "      <td>김재윤 의원실</td>\n",
       "      <td>2010-01-22</td>\n",
       "      <td>10:00</td>\n",
       "      <td>국회도서관 강당</td>\n",
       "      <td>기후변화시대, 석탄·고황유가 기업경쟁력일까 : 산업계 연료 전환에 따른 대기환경 및...</td>\n",
       "      <td></td>\n",
       "    </tr>\n",
       "    <tr>\n",
       "      <th>4</th>\n",
       "      <td>김부겸 의원실</td>\n",
       "      <td>2010-01-26</td>\n",
       "      <td>14:00</td>\n",
       "      <td>의원회관 제1소회의실</td>\n",
       "      <td>생활체육 무엇이 문제인가? : 후진적 생활체육 정책과 제도! 생활체육의 혁신적 발전...</td>\n",
       "      <td></td>\n",
       "    </tr>\n",
       "  </tbody>\n",
       "</table>\n",
       "</div>"
      ],
      "text/plain": [
       "        주최          일자           시간           장소  \\\n",
       "0  정두언 의원실  2010-01-05        16:30     국회도서관 강당   \n",
       "1  전현희 의원실  2010-01-12        15:00    의원회관 대회의실   \n",
       "2  정미경 의원실  2010-01-20  14:00~16:00  의원회관 제1소회의실   \n",
       "3  김재윤 의원실  2010-01-22        10:00     국회도서관 강당   \n",
       "4  김부겸 의원실  2010-01-26        14:00  의원회관 제1소회의실   \n",
       "\n",
       "                                                  제목 분류  \n",
       "0          2010 공상연 출범식 및 군·경·소방 국가유공자 등 관련법 입법정책토론회     \n",
       "1  안정적인 중환자 보호와 중환자실 개선을 위한 정책토론회 : 전문의 전담제도 도입추진...     \n",
       "2                                 경기 고등법원 설치를 위한 공청회     \n",
       "3  기후변화시대, 석탄·고황유가 기업경쟁력일까 : 산업계 연료 전환에 따른 대기환경 및...     \n",
       "4  생활체육 무엇이 문제인가? : 후진적 생활체육 정책과 제도! 생활체육의 혁신적 발전...     "
      ]
     },
     "execution_count": 72,
     "metadata": {},
     "output_type": "execute_result"
    }
   ],
   "source": [
    "df.head()"
   ]
  },
  {
   "cell_type": "code",
   "execution_count": 73,
   "metadata": {},
   "outputs": [],
   "source": [
    "def text_classifier(keyword_dictionary, row):\n",
    "    # keyword_dictionary\n",
    "    for category, words in keyword_dictionary.items():\n",
    "        for word in words: \n",
    "            if word in row['제목']:\n",
    "                row['분류'] += category\n",
    "                row['분류'] += ' '\n",
    "                continue\n",
    "                \n",
    "    if len(row['분류']) == 0:\n",
    "        row['분류'] = '기타'"
   ]
  },
  {
   "cell_type": "code",
   "execution_count": 74,
   "metadata": {},
   "outputs": [],
   "source": [
    "for index, row in df.iterrows():\n",
    "    text_classifier(processed_keyword, row)"
   ]
  },
  {
   "cell_type": "code",
   "execution_count": 75,
   "metadata": {},
   "outputs": [
    {
     "data": {
      "text/plain": [
       "기타           7107\n",
       "경제            701\n",
       "노동            236\n",
       "교육             98\n",
       "경제 경제          72\n",
       "노동 노동          53\n",
       "교육 교육          19\n",
       "교육 노동          12\n",
       "경제 경제 경제       11\n",
       "경제 노동          10\n",
       "노동 노동 노동        5\n",
       "경제 경제 노동        3\n",
       "경제 교육           3\n",
       "교육 노동 노동        2\n",
       "경제 노동 노동        2\n",
       "교육 교육 노동        1\n",
       "경제 경제 교육        1\n",
       "Name: 분류, dtype: int64"
      ]
     },
     "execution_count": 75,
     "metadata": {},
     "output_type": "execute_result"
    }
   ],
   "source": [
    "df['분류'].value_counts()"
   ]
  },
  {
   "cell_type": "code",
   "execution_count": 79,
   "metadata": {},
   "outputs": [],
   "source": [
    "df.to_excel('./의회의제.수정.xls', index=False)"
   ]
  },
  {
   "cell_type": "code",
   "execution_count": null,
   "metadata": {},
   "outputs": [],
   "source": []
  }
 ],
 "metadata": {
  "kernelspec": {
   "display_name": "Python 3",
   "language": "python",
   "name": "python3"
  },
  "language_info": {
   "codemirror_mode": {
    "name": "ipython",
    "version": 3
   },
   "file_extension": ".py",
   "mimetype": "text/x-python",
   "name": "python",
   "nbconvert_exporter": "python",
   "pygments_lexer": "ipython3",
   "version": "3.6.7"
  }
 },
 "nbformat": 4,
 "nbformat_minor": 2
}
